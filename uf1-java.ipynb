{
 "cells": [
  {
   "cell_type": "markdown",
   "id": "cfd88881-793c-4d32-879d-989b87f8870b",
   "metadata": {},
   "source": [
    "# Introducció a la programació amb Java"
   ]
  },
  {
   "cell_type": "markdown",
   "id": "15e5a9e0-a024-4748-89b9-41e0850f7c0b",
   "metadata": {},
   "source": [
    "### Imprimir de forma simple amb Java"
   ]
  },
  {
   "cell_type": "code",
   "execution_count": 9,
   "id": "46337e13-981d-4799-b938-0ff3996454c1",
   "metadata": {
    "tags": []
   },
   "outputs": [
    {
     "name": "stdout",
     "output_type": "stream",
     "text": [
      "Hola Java:\n",
      "- T'estimo Java"
     ]
    }
   ],
   "source": [
    "//Imprimim amb Java:\n",
    "println(\"Hola Java:\"); //println imprimeix i també salta de línia\n",
    "print(\"- \"); //print no salta de línia\n",
    "print(\"T'estimo Java\");"
   ]
  },
  {
   "cell_type": "markdown",
   "id": "845d1676-81bf-4c5c-a451-16a78b716590",
   "metadata": {},
   "source": [
    "### Taula de multiplicar del 4"
   ]
  },
  {
   "cell_type": "code",
   "execution_count": 27,
   "id": "52ed544f-70a2-49d2-8eef-f6c12d76062f",
   "metadata": {
    "tags": []
   },
   "outputs": [
    {
     "name": "stdout",
     "output_type": "stream",
     "text": [
      "360\n",
      "720\n",
      "1080\n",
      "1440\n",
      "1800\n",
      "2160\n",
      "2520\n",
      "2880\n",
      "3240\n",
      "3600\n"
     ]
    }
   ],
   "source": [
    "//Taules de multiplicar\n",
    "//Usem l'operador multiplicació *\n",
    "\n",
    "//DECLAREM UNA VARIABLE DE TIPUS int ANOMENADA n\n",
    "int n;\n",
    "\n",
    "//ASSIGNACIÓ DE VALOR a la variable n\n",
    "n = 360;\n",
    "\n",
    "println(n * 1);\n",
    "println(n * 2);\n",
    "println(n * 3);\n",
    "println(n * 4);\n",
    "println(n * 5);\n",
    "println(n * 6);\n",
    "println(n * 7);\n",
    "println(n * 8);\n",
    "println(n * 9);\n",
    "println(n * 10);"
   ]
  },
  {
   "cell_type": "code",
   "execution_count": 35,
   "id": "226fd144-34f8-4b3d-b486-f4c61faa02e0",
   "metadata": {
    "tags": []
   },
   "outputs": [
    {
     "ename": "CompilationException",
     "evalue": "",
     "output_type": "error",
     "traceback": [
      "\u001b[1m\u001b[30m|   \u001b[1m\u001b[30mint k = \u001b[0m\u001b[1m\u001b[30m\u001b[41m10L\u001b[0m\u001b[1m\u001b[30m;\u001b[0m",
      "\u001b[1m\u001b[31mincompatible types: possible lossy conversion from long to int\u001b[0m",
      ""
     ]
    }
   ],
   "source": [
    "int k = 10L;\n",
    "print(k);"
   ]
  },
  {
   "cell_type": "code",
   "execution_count": 36,
   "id": "2e31fe47-fa76-42f3-8d0d-0541b9aff13a",
   "metadata": {
    "tags": []
   },
   "outputs": [
    {
     "name": "stdout",
     "output_type": "stream",
     "text": [
      "2"
     ]
    }
   ],
   "source": [
    "byte b = 2;\n",
    "print(b);"
   ]
  },
  {
   "cell_type": "code",
   "execution_count": 38,
   "id": "9f75b124-38b4-4b83-82ad-d59111f44c09",
   "metadata": {
    "tags": []
   },
   "outputs": [
    {
     "name": "stdout",
     "output_type": "stream",
     "text": [
      "8.042477432874371"
     ]
    }
   ],
   "source": [
    "//Calculeu l'àrea d'un cercle donat el radi r\n",
    "\n",
    "float radi;\n",
    "radi = 1.6f; //metres\n",
    "\n",
    "print(Math.PI * radi * radi);"
   ]
  },
  {
   "cell_type": "code",
   "execution_count": 39,
   "id": "82432c43-48df-4a80-ba26-152fc6a7de59",
   "metadata": {
    "tags": []
   },
   "outputs": [
    {
     "name": "stdout",
     "output_type": "stream",
     "text": [
      "12.867964084346598"
     ]
    }
   ],
   "source": [
    "//Volum d'una esfera donat un radi r\n",
    "\n",
    "float r;\n",
    "r = 1.6f;\n",
    "\n",
    "print(4/3 * Math.PI * r * r * r);\n"
   ]
  }
 ],
 "metadata": {
  "kernelspec": {
   "display_name": "Java",
   "language": "java",
   "name": "java"
  },
  "language_info": {
   "codemirror_mode": "java",
   "file_extension": ".jshell",
   "mimetype": "text/x-java-source",
   "name": "Java",
   "pygments_lexer": "java",
   "version": "17.0.6+10-LTS"
  }
 },
 "nbformat": 4,
 "nbformat_minor": 5
}
