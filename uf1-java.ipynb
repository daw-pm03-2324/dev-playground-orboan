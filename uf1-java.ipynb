{
 "cells": [
  {
   "cell_type": "markdown",
   "id": "cfd88881-793c-4d32-879d-989b87f8870b",
   "metadata": {},
   "source": [
    "# Introducció a la programació amb Java"
   ]
  },
  {
   "cell_type": "code",
   "execution_count": 5,
   "id": "46337e13-981d-4799-b938-0ff3996454c1",
   "metadata": {
    "tags": []
   },
   "outputs": [
    {
     "name": "stdout",
     "output_type": "stream",
     "text": [
      "Hola Java, t'estimo Java"
     ]
    }
   ],
   "source": [
    "print(\"Hola Java, t'estimo Java\");"
   ]
  },
  {
   "cell_type": "code",
   "execution_count": 15,
   "id": "52ed544f-70a2-49d2-8eef-f6c12d76062f",
   "metadata": {
    "tags": []
   },
   "outputs": [
    {
     "name": "stdout",
     "output_type": "stream",
     "text": [
      "20\n",
      "24\n",
      "28"
     ]
    }
   ],
   "source": [
    "\n",
    "println(4 * 5);\n",
    "println(4 * 6);\n",
    "print(4 * 7);"
   ]
  }
 ],
 "metadata": {
  "kernelspec": {
   "display_name": "Java",
   "language": "java",
   "name": "java"
  },
  "language_info": {
   "codemirror_mode": "java",
   "file_extension": ".jshell",
   "mimetype": "text/x-java-source",
   "name": "Java",
   "pygments_lexer": "java",
   "version": "17.0.6+10-LTS"
  }
 },
 "nbformat": 4,
 "nbformat_minor": 5
}
