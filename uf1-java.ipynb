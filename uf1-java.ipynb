{
 "cells": [
  {
   "cell_type": "raw",
   "id": "938a481b-a153-4bc7-8e7f-c9df2e19ebde",
   "metadata": {},
   "source": [
    "# Introducció a la programació amb Java"
   ]
  },
  {
   "cell_type": "markdown",
   "id": "15e5a9e0-a024-4748-89b9-41e0850f7c0b",
   "metadata": {},
   "source": [
    "### Imprimir de forma simple amb Java"
   ]
  },
  {
   "cell_type": "code",
   "execution_count": 9,
   "id": "46337e13-981d-4799-b938-0ff3996454c1",
   "metadata": {
    "tags": []
   },
   "outputs": [
    {
     "name": "stdout",
     "output_type": "stream",
     "text": [
      "Hola Java:\n",
      "- T'estimo Java"
     ]
    }
   ],
   "source": [
    "//Imprimim amb Java:\n",
    "println(\"Hola Java:\"); //println imprimeix i també salta de línia\n",
    "print(\"- \"); //print no salta de línia\n",
    "print(\"T'estimo Java\");"
   ]
  },
  {
   "cell_type": "code",
   "execution_count": 1,
   "id": "e4bf109a-56ca-492f-ae80-5323c8c73268",
   "metadata": {
    "tags": []
   },
   "outputs": [
    {
     "name": "stdout",
     "output_type": "stream",
     "text": [
      "Imprimim un text en Java\n"
     ]
    }
   ],
   "source": [
    "System.out.println(\"Imprimim un text en Java\");"
   ]
  },
  {
   "cell_type": "markdown",
   "id": "845d1676-81bf-4c5c-a451-16a78b716590",
   "metadata": {},
   "source": [
    "### Taula de multiplicar del 4"
   ]
  },
  {
   "cell_type": "code",
   "execution_count": 27,
   "id": "52ed544f-70a2-49d2-8eef-f6c12d76062f",
   "metadata": {
    "tags": []
   },
   "outputs": [
    {
     "name": "stdout",
     "output_type": "stream",
     "text": [
      "360\n",
      "720\n",
      "1080\n",
      "1440\n",
      "1800\n",
      "2160\n",
      "2520\n",
      "2880\n",
      "3240\n",
      "3600\n"
     ]
    }
   ],
   "source": [
    "//Taules de multiplicar\n",
    "//Usem l'operador multiplicació *\n",
    "\n",
    "//DECLAREM UNA VARIABLE DE TIPUS int ANOMENADA n\n",
    "int n;\n",
    "\n",
    "//ASSIGNACIÓ DE VALOR a la variable n\n",
    "n = 360;\n",
    "\n",
    "println(n * 1);\n",
    "println(n * 2);\n",
    "println(n * 3);\n",
    "println(n * 4);\n",
    "println(n * 5);\n",
    "println(n * 6);\n",
    "println(n * 7);\n",
    "println(n * 8);\n",
    "println(n * 9);\n",
    "println(n * 10);"
   ]
  },
  {
   "cell_type": "code",
   "execution_count": 35,
   "id": "226fd144-34f8-4b3d-b486-f4c61faa02e0",
   "metadata": {
    "tags": []
   },
   "outputs": [
    {
     "ename": "CompilationException",
     "evalue": "",
     "output_type": "error",
     "traceback": [
      "\u001b[1m\u001b[30m|   \u001b[1m\u001b[30mint k = \u001b[0m\u001b[1m\u001b[30m\u001b[41m10L\u001b[0m\u001b[1m\u001b[30m;\u001b[0m",
      "\u001b[1m\u001b[31mincompatible types: possible lossy conversion from long to int\u001b[0m",
      ""
     ]
    }
   ],
   "source": [
    "int k = 10L;\n",
    "print(k);"
   ]
  },
  {
   "cell_type": "code",
   "execution_count": 36,
   "id": "2e31fe47-fa76-42f3-8d0d-0541b9aff13a",
   "metadata": {
    "tags": []
   },
   "outputs": [
    {
     "name": "stdout",
     "output_type": "stream",
     "text": [
      "2"
     ]
    }
   ],
   "source": [
    "byte b = 2;\n",
    "print(b);"
   ]
  },
  {
   "cell_type": "code",
   "execution_count": 6,
   "id": "9f75b124-38b4-4b83-82ad-d59111f44c09",
   "metadata": {
    "tags": []
   },
   "outputs": [
    {
     "name": "stdout",
     "output_type": "stream",
     "text": [
      "8.042477432874371\n",
      "12.566370614359172"
     ]
    }
   ],
   "source": [
    "//Calculeu l'àrea d'un cercle donat el radi r\n",
    "\n",
    "float radi;\n",
    "radi = 1.6f; //metres\n",
    "println(Math.PI * radi * radi);\n",
    "\n",
    "radi = 2.0;\n",
    "print(Math.PI * radi * radi);"
   ]
  },
  {
   "cell_type": "code",
   "execution_count": 39,
   "id": "82432c43-48df-4a80-ba26-152fc6a7de59",
   "metadata": {
    "tags": []
   },
   "outputs": [
    {
     "name": "stdout",
     "output_type": "stream",
     "text": [
      "12.867964084346598"
     ]
    }
   ],
   "source": [
    "//Volum d'una esfera donat un radi r\n",
    "\n",
    "float r;\n",
    "r = 1.6f;\n",
    "\n",
    "print(4/3 * Math.PI * r * r * r);\n"
   ]
  },
  {
   "cell_type": "code",
   "execution_count": 13,
   "id": "12ff6399-3c96-491b-909f-9d0ce5f6a9e9",
   "metadata": {
    "tags": []
   },
   "outputs": [
    {
     "name": "stdout",
     "output_type": "stream",
     "text": [
      "1.6\n",
      "2.0"
     ]
    }
   ],
   "source": [
    "float radi;\n",
    "radi = 1.6f; //metres\n",
    "println(radi);\n",
    "\n",
    "radi = (float)2.0;\n",
    "print(radi);"
   ]
  },
  {
   "cell_type": "code",
   "execution_count": 21,
   "id": "36eaa990-38ee-4d59-969e-2351d3db9fea",
   "metadata": {
    "tags": []
   },
   "outputs": [
    {
     "name": "stdout",
     "output_type": "stream",
     "text": [
      "C\n"
     ]
    }
   ],
   "source": [
    "char c = 'A' + 2;\n",
    "\n",
    "\n",
    "println(c);"
   ]
  },
  {
   "cell_type": "code",
   "execution_count": 20,
   "id": "fafafe57-f34e-48ed-9ed4-7b144afe758b",
   "metadata": {
    "tags": []
   },
   "outputs": [
    {
     "name": "stdout",
     "output_type": "stream",
     "text": [
      "97"
     ]
    }
   ],
   "source": [
    "int n = 'a';\n",
    "\n",
    "print(n);"
   ]
  },
  {
   "cell_type": "code",
   "execution_count": 23,
   "id": "76a26fd9-194f-4895-9016-32d7e6c989d9",
   "metadata": {
    "tags": []
   },
   "outputs": [
    {
     "name": "stdout",
     "output_type": "stream",
     "text": [
      "32"
     ]
    }
   ],
   "source": [
    "short s = -224;\n",
    "byte b = (byte)s;\n",
    "\n",
    "print(b);"
   ]
  },
  {
   "cell_type": "code",
   "execution_count": 28,
   "id": "a14b7f5d-da6e-4a2f-8faa-3b53dac77e6b",
   "metadata": {
    "tags": []
   },
   "outputs": [
    {
     "name": "stdout",
     "output_type": "stream",
     "text": [
      "-128"
     ]
    }
   ],
   "source": [
    "byte bt = (byte)128;\n",
    "print(bt);"
   ]
  },
  {
   "cell_type": "markdown",
   "id": "a1efa209-1887-473d-bcdd-d5a03f0178ef",
   "metadata": {},
   "source": [
    "# Exercicis Casting"
   ]
  },
  {
   "cell_type": "markdown",
   "id": "3eb3973e-ca1f-43b4-8631-743eab7349ba",
   "metadata": {},
   "source": [
    "## Exercici 1\n",
    "\n",
    "Pasar de tipo texto a tipo número entero: String a int. Siendo String s = “1950”;"
   ]
  },
  {
   "cell_type": "code",
   "execution_count": 30,
   "id": "080ea48f-079a-43a9-a602-51934a6534f1",
   "metadata": {
    "tags": []
   },
   "outputs": [
    {
     "ename": "CompilationException",
     "evalue": "",
     "output_type": "error",
     "traceback": [
      "\u001b[1m\u001b[30m|   \u001b[1m\u001b[30mint n = (int)\u001b[0m\u001b[1m\u001b[30m\u001b[41ms\u001b[0m\u001b[1m\u001b[30m;\u001b[0m",
      "\u001b[1m\u001b[31mincompatible types: java.lang.String cannot be converted to int\u001b[0m",
      ""
     ]
    }
   ],
   "source": [
    "String s = \"1950\";\n",
    "\n",
    "int n = (int)s;\n",
    "\n",
    "println(n);"
   ]
  },
  {
   "cell_type": "markdown",
   "id": "74719ff5-d4d6-459b-924a-19f0839e91b2",
   "metadata": {},
   "source": [
    "## Exercici 2\n",
    "Int a String. Hacer un casting de un entero a un texto."
   ]
  },
  {
   "cell_type": "code",
   "execution_count": 31,
   "id": "013d91f1-6bea-4c0e-8724-1234e3fe9851",
   "metadata": {
    "tags": []
   },
   "outputs": [
    {
     "ename": "CompilationException",
     "evalue": "",
     "output_type": "error",
     "traceback": [
      "\u001b[1m\u001b[30m|   \u001b[1m\u001b[30mString str = (String)\u001b[0m\u001b[1m\u001b[30m\u001b[41mk\u001b[0m\u001b[1m\u001b[30m;\u001b[0m",
      "\u001b[1m\u001b[31mincompatible types: int cannot be converted to java.lang.String\u001b[0m",
      ""
     ]
    }
   ],
   "source": [
    "int k = 77;\n",
    "\n",
    "String str = (String)k;\n",
    "\n",
    "print(str);"
   ]
  },
  {
   "cell_type": "code",
   "execution_count": null,
   "id": "b94c0eb4-69fc-4f0a-a576-10a12214a8fa",
   "metadata": {},
   "outputs": [],
   "source": [
    "String str = \"5\";\n",
    "char ch = '5';\n",
    "int num = 5;\n",
    "double dbl = 5.0;"
   ]
  },
  {
   "cell_type": "code",
   "execution_count": 34,
   "id": "a63e8fb0-745a-4784-98d4-a3d61ca2db44",
   "metadata": {
    "tags": []
   },
   "outputs": [
    {
     "name": "stdout",
     "output_type": "stream",
     "text": [
      "55"
     ]
    }
   ],
   "source": [
    "int b = 55;\n",
    "String v = \"\" + b;\n",
    "print(v);"
   ]
  },
  {
   "cell_type": "markdown",
   "id": "521d9a12-e3e6-4344-83af-90548f523b83",
   "metadata": {},
   "source": [
    "### Operadors aritmètics\n",
    "\n"
   ]
  },
  {
   "cell_type": "code",
   "execution_count": 9,
   "id": "bf013bfb-d381-4b92-994c-0190d4e4d268",
   "metadata": {
    "tags": []
   },
   "outputs": [
    {
     "name": "stdout",
     "output_type": "stream",
     "text": [
      "15\n",
      "1\n",
      "56\n",
      "1.1428572\n"
     ]
    }
   ],
   "source": [
    "//Suma\n",
    "int a = 8;\n",
    "int b = 7;\n",
    "\n",
    "println(a + b);\n",
    "\n",
    "//resta\n",
    "println(a - b);\n",
    "\n",
    "//multiplicació\n",
    "println(a * b);\n",
    "\n",
    "//divisió\n",
    "println((float)a / b);"
   ]
  },
  {
   "cell_type": "code",
   "execution_count": 10,
   "id": "9afbb2f8-7889-47eb-a75b-ce51441479c6",
   "metadata": {
    "tags": []
   },
   "outputs": [
    {
     "name": "stdout",
     "output_type": "stream",
     "text": [
      "-48\n"
     ]
    }
   ],
   "source": [
    "a = a - a * b;\n",
    "\n",
    "println(a);"
   ]
  },
  {
   "cell_type": "code",
   "execution_count": 11,
   "id": "b562098b-fd76-4365-b765-0f3b918c5abe",
   "metadata": {
    "tags": []
   },
   "outputs": [
    {
     "name": "stdout",
     "output_type": "stream",
     "text": [
      "49\n"
     ]
    }
   ],
   "source": [
    "b = b / b - a;\n",
    "println(b);"
   ]
  },
  {
   "cell_type": "code",
   "execution_count": 22,
   "id": "ab6911b0-4217-48c4-b12c-d3337a8dc4f8",
   "metadata": {
    "tags": []
   },
   "outputs": [
    {
     "name": "stdout",
     "output_type": "stream",
     "text": [
      "9\n",
      "0\n"
     ]
    }
   ],
   "source": [
    "//Operador mòdul %\n",
    "\n",
    "int k = 99, j = 11;\n",
    "\n",
    "println(k / j);\n",
    "println(k % j);"
   ]
  },
  {
   "cell_type": "markdown",
   "id": "1960e981-5f84-41b9-ac1b-6f3864f2fec1",
   "metadata": {},
   "source": [
    "### Operadors lògics"
   ]
  },
  {
   "cell_type": "code",
   "execution_count": 23,
   "id": "15ea223b-a861-4fe8-a1f6-f31d6324d59e",
   "metadata": {
    "tags": []
   },
   "outputs": [
    {
     "name": "stdout",
     "output_type": "stream",
     "text": [
      "true\n",
      "false\n",
      "false\n",
      "false\n"
     ]
    }
   ],
   "source": [
    "//and\n",
    "println(true && true);\n",
    "println(true && false);\n",
    "println(false && true);\n",
    "println(false && false);"
   ]
  },
  {
   "cell_type": "code",
   "execution_count": 24,
   "id": "56a4010d-bd34-4889-b5bd-706bcec2fdf3",
   "metadata": {
    "tags": []
   },
   "outputs": [
    {
     "name": "stdout",
     "output_type": "stream",
     "text": [
      "true\n",
      "true\n",
      "true\n",
      "false\n"
     ]
    }
   ],
   "source": [
    "//or\n",
    "println(true || true);\n",
    "println(true || false);\n",
    "println(false || true);\n",
    "println(false || false);"
   ]
  },
  {
   "cell_type": "code",
   "execution_count": 25,
   "id": "fa2c4813-46f4-4266-9b25-5ccb2dbd8edd",
   "metadata": {
    "tags": []
   },
   "outputs": [
    {
     "name": "stdout",
     "output_type": "stream",
     "text": [
      "false\n",
      "true\n"
     ]
    }
   ],
   "source": [
    "//not\n",
    "println(!true);\n",
    "println(!false);"
   ]
  },
  {
   "cell_type": "code",
   "execution_count": 26,
   "id": "193a5b29-aff4-4c35-977a-fe6f90be1a20",
   "metadata": {
    "tags": []
   },
   "outputs": [
    {
     "name": "stdout",
     "output_type": "stream",
     "text": [
      "false\n"
     ]
    }
   ],
   "source": [
    "println(true && false || !true && !(false && true));"
   ]
  },
  {
   "cell_type": "markdown",
   "id": "598f183c-3577-4c7b-a9ba-39134d7b7c8e",
   "metadata": {},
   "source": [
    "### Operadors de comparació\n",
    "\n",
    "El resultat d'una expressió amb operadors de comparació\n",
    "és sempre un booleà (true o false)."
   ]
  },
  {
   "cell_type": "code",
   "execution_count": 30,
   "id": "db214831-5d0c-4b66-8bfd-b4dd53a633ed",
   "metadata": {
    "tags": []
   },
   "outputs": [
    {
     "name": "stdout",
     "output_type": "stream",
     "text": [
      "true\n",
      "false\n",
      "true\n",
      "false\n",
      "false\n",
      "true\n"
     ]
    }
   ],
   "source": [
    "int r = 10, s = -5;\n",
    "\n",
    "//més gran que\n",
    "println(r > s);\n",
    "\n",
    "//més petit que\n",
    "println(r < s);\n",
    "\n",
    "//més gran o igual que\n",
    "println(r >= s);\n",
    "\n",
    "//més petit o igual que\n",
    "println(r <= s);\n",
    "\n",
    "//igual\n",
    "println(r == s);\n",
    "\n",
    "//no igual (diferent)\n",
    "println(r != s);"
   ]
  },
  {
   "cell_type": "code",
   "execution_count": 32,
   "id": "dab87818-11b9-4d88-a3d3-656bb012962f",
   "metadata": {
    "tags": []
   },
   "outputs": [
    {
     "name": "stdout",
     "output_type": "stream",
     "text": [
      "true\n"
     ]
    }
   ],
   "source": [
    "boolean result = r != s;\n",
    "println(result);"
   ]
  },
  {
   "cell_type": "code",
   "execution_count": 36,
   "id": "d6596733-92af-471c-8f52-c2d9b1cbba8f",
   "metadata": {
    "tags": []
   },
   "outputs": [
    {
     "name": "stdout",
     "output_type": "stream",
     "text": [
      "true\n"
     ]
    }
   ],
   "source": [
    "boolean t = true, f = false;\n",
    "int q = 10, v = 5;\n",
    "println (q - v < q && t || !(v == q));\n",
    "//println(q - v < q);"
   ]
  },
  {
   "cell_type": "markdown",
   "id": "275112a6-4725-4ee8-b686-3065910cf4c1",
   "metadata": {},
   "source": []
  },
  {
   "cell_type": "code",
   "execution_count": 41,
   "id": "c5b7fa51-2190-4270-ad9a-7340591c827f",
   "metadata": {
    "tags": []
   },
   "outputs": [
    {
     "ename": "CompilationException",
     "evalue": "",
     "output_type": "error",
     "traceback": [
      "\u001b[1m\u001b[30m|   \u001b[1m\u001b[30m\u001b[0m\u001b[1m\u001b[30m\u001b[41m4 == 4 != 4\u001b[0m\u001b[1m\u001b[30m\u001b[0m",
      "\u001b[1m\u001b[31mincomparable types: boolean and int\u001b[0m",
      ""
     ]
    }
   ],
   "source": [
    "4 == 4 != 4"
   ]
  },
  {
   "cell_type": "code",
   "execution_count": 46,
   "id": "c99a7eb6-a6a3-4a33-a987-91c9bbd9efc7",
   "metadata": {
    "tags": []
   },
   "outputs": [
    {
     "name": "stdout",
     "output_type": "stream",
     "text": [
      "false\n",
      "false\n",
      "true\n"
     ]
    }
   ],
   "source": [
    "boolean f = false, t = true;\n",
    "println(f || t && f || t && f);\n",
    "println(f && !f && !(f || !t && t));\n",
    "println(t && 4 != 2 == t);"
   ]
  },
  {
   "cell_type": "markdown",
   "id": "9f19af1f-6065-43e7-922a-8c860bbfaefa",
   "metadata": {},
   "source": [
    "### Operadors bitwise\n",
    "\n",
    "Els operadors bitwise són igual que els operadors lògics\n",
    "però amb la diferència que actuen bit a bit."
   ]
  },
  {
   "cell_type": "code",
   "execution_count": 51,
   "id": "10aada90-e259-4837-a3f1-ca3e16a4419c",
   "metadata": {
    "tags": []
   },
   "outputs": [
    {
     "name": "stdout",
     "output_type": "stream",
     "text": [
      "0000 0000 0000 0000 0000 0000 0000 0101\n",
      "0000 0000 0000 0000 0000 0000 0000 1111\n",
      "0000 0000 0000 0000 0000 0000 0000 0101\n"
     ]
    }
   ],
   "source": [
    "//& (AND) \n",
    "intToBin(5);\n",
    "intToBin(15);\n",
    "intToBin(5 & 15);"
   ]
  },
  {
   "cell_type": "code",
   "execution_count": 52,
   "id": "566e7d1e-8ef1-4285-8a00-5e5304729afe",
   "metadata": {
    "tags": []
   },
   "outputs": [
    {
     "name": "stdout",
     "output_type": "stream",
     "text": [
      "0000 0000 0000 0000 0000 0000 0000 0101\n",
      "0000 0000 0000 0000 0000 0000 0000 1111\n",
      "0000 0000 0000 0000 0000 0000 0000 1111\n"
     ]
    }
   ],
   "source": [
    "//| (OR) \n",
    "intToBin(5);\n",
    "intToBin(15);\n",
    "intToBin(5 | 15);"
   ]
  },
  {
   "cell_type": "code",
   "execution_count": 56,
   "id": "5362829a-8174-4a6a-8bf2-fb56f97631d6",
   "metadata": {
    "tags": []
   },
   "outputs": [
    {
     "name": "stdout",
     "output_type": "stream",
     "text": [
      "0000 0000 0000 0000 0000 0000 0000 0001\n",
      "0000 0000 0000 0000 0000 0000 0000 0011\n",
      "0000 0000 0000 0000 0000 0000 0000 0010\n",
      "1\n",
      "3\n",
      "2\n"
     ]
    }
   ],
   "source": [
    "//^  (XOR = OR eXcluyente)\n",
    "int a = 1, b = 3;\n",
    "intToBin(a);\n",
    "intToBin(b);\n",
    "intToBin(a ^ b);\n",
    "    \n",
    "println(a);\n",
    "println(b);\n",
    "println(a ^ b)"
   ]
  },
  {
   "cell_type": "markdown",
   "id": "bdec61a3-97bf-46bc-b885-9eaf79309ad1",
   "metadata": {},
   "source": [
    "### Operador shift"
   ]
  },
  {
   "cell_type": "code",
   "execution_count": 18,
   "id": "caeca507-01db-4c2d-93d6-4cffba428558",
   "metadata": {
    "tags": []
   },
   "outputs": [
    {
     "name": "stdout",
     "output_type": "stream",
     "text": [
      "0000 0000 0000 0000 0000 0000 0000 1000\n",
      "0000 0000 0000 0000 0000 0000 0010 0000\n",
      "32\n",
      "32\n"
     ]
    }
   ],
   "source": [
    "int v = 8;\n",
    "intToBin(v);\n",
    "intToBin(v<<2);\n",
    "println(v<<2);\n",
    "println(v*4);"
   ]
  },
  {
   "cell_type": "code",
   "execution_count": null,
   "id": "7a5b3550-c9c3-4cd6-a57f-ace8054caebd",
   "metadata": {},
   "outputs": [],
   "source": []
  },
  {
   "cell_type": "code",
   "execution_count": null,
   "id": "0bd95049-6e22-4537-adf5-77a59ec22ce4",
   "metadata": {},
   "outputs": [],
   "source": []
  }
 ],
 "metadata": {
  "kernelspec": {
   "display_name": "Java",
   "language": "java",
   "name": "java"
  },
  "language_info": {
   "codemirror_mode": "java",
   "file_extension": ".jshell",
   "mimetype": "text/x-java-source",
   "name": "Java",
   "pygments_lexer": "java",
   "version": "17.0.6+10-LTS"
  }
 },
 "nbformat": 4,
 "nbformat_minor": 5
}
